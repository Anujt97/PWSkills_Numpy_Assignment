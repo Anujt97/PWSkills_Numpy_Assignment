{
 "cells": [
  {
   "cell_type": "markdown",
   "id": "c7be761a",
   "metadata": {},
   "source": [
    "Question 1 :- What is a Python library? Why do we use Python libraries?\n",
    "\n",
    "A Python library is a collection of pre-written code and functionalities that can be imported and used in Python programs to perform specific tasks without the need to write the code from scratch. These libraries typically contain functions, classes, and modules that offer solutions for common problems or provide tools to streamline development in various domains.\n",
    "\n",
    "We use Python libraries for several reasons:\n",
    "1. Efficiency: Libraries save time and effort by providing ready-made solutions to common programming problems.\n",
    "2. Functionality: Libraries extend the capabilities of Python by offering a wide range of functionalities that aren't available in the core Python language.\n",
    "3. Specialization: Many Python libraries are specialized for specific tasks or domains. For example, there are libraries for web development (e.g., Flask, Django)."
   ]
  },
  {
   "cell_type": "markdown",
   "id": "982234d6",
   "metadata": {},
   "source": [
    "Question 2 :- What is the difference between Numpy array and List?\n",
    "\n",
    "NumPy arrays and Python lists are both used to store collections of data, but they have several key differences in terms of functionality, performance, and usage :\n",
    "1. Memory Efficiency:\n",
    "\n",
    "NumPy arrays are more memory efficient compared to Python lists. This efficiency comes from NumPy arrays being homogeneous (all elements are of the same data type) and stored in contiguous memory blocks, while Python lists are heterogeneous and store references to objects in memory, leading to more overhead.\n",
    "\n",
    "2. Performance:\n",
    "\n",
    "* NumPy arrays generally offer better performance for numerical computations compared to Python lists. NumPy's underlying implementations are written in C, which allows for optimized operations and vectorized calculations.\n",
    "* Python lists are more flexible but slower, especially for large datasets and numerical computations.\n",
    "\n",
    "3. Functionality:\n",
    "\n",
    "* NumPy arrays come with a wide range of mathematical functions and operations optimized for numerical computing, such as element-wise operations, linear algebra operations, statistical functions, and random number generation.\n",
    "* Python lists provide more general-purpose functionality and are suitable for storing heterogeneous data types and performing basic list operations like appending, slicing, and concatenating."
   ]
  },
  {
   "cell_type": "markdown",
   "id": "27a8c11f",
   "metadata": {},
   "source": [
    "Question 3 :- ind the shape, size and dimension of the following array?\n",
    "\n",
    " [[1, 2, 3, 4]\n",
    "\n",
    "[5, 6, 7, 8],\n",
    "\n",
    "[9, 10, 11, 12]]\n"
   ]
  },
  {
   "cell_type": "code",
   "execution_count": 9,
   "id": "51f9fdd8",
   "metadata": {},
   "outputs": [
    {
     "name": "stdout",
     "output_type": "stream",
     "text": [
      "Shape: (3, 4)\n",
      "Size: 12\n",
      "Dimension: 2\n"
     ]
    }
   ],
   "source": [
    "import numpy as np\n",
    "\n",
    "array = [[1, 2, 3, 4],\n",
    "\n",
    "         [5, 6, 7, 8],\n",
    "\n",
    "         [9, 10, 11, 12]]\n",
    "\n",
    "np_array = np.array(array)\n",
    "\n",
    "shape = np_array.shape\n",
    "\n",
    "size = np_array.size\n",
    "\n",
    "dimension = np_array.ndim\n",
    "\n",
    "print(\"Shape:\", shape)\n",
    "print(\"Size:\", size)\n",
    "print(\"Dimension:\", dimension)"
   ]
  },
  {
   "cell_type": "markdown",
   "id": "86d2e17c",
   "metadata": {},
   "source": [
    "Question 4 :- Write python code to access the first row of the following array?\n",
    "\n",
    " [[1, 2, 3, 4]\n",
    "\n",
    "[5, 6, 7, 8],\n",
    "\n",
    "[9, 10, 11, 12]]\n",
    "\n"
   ]
  },
  {
   "cell_type": "code",
   "execution_count": 11,
   "id": "97cf7d55",
   "metadata": {},
   "outputs": [
    {
     "name": "stdout",
     "output_type": "stream",
     "text": [
      "First row: [1 2 3 4]\n"
     ]
    }
   ],
   "source": [
    "import numpy as np\n",
    "\n",
    "array = [[1, 2, 3, 4],\n",
    "         [5, 6, 7, 8],\n",
    "         [9, 10, 11, 12]]\n",
    "\n",
    "np_array = np.array(array)\n",
    "\n",
    "first_row = np_array[0]\n",
    "\n",
    "print(\"First row:\", first_row)"
   ]
  },
  {
   "cell_type": "markdown",
   "id": "cda68128",
   "metadata": {},
   "source": [
    "Question 5 :- How do you access the element at the third row and fourth column from the given numpy array?\n",
    "\n",
    " [[1, 2, 3, 4]\n",
    "\n",
    "[5, 6, 7, 8],\n",
    "\n",
    "[9, 10, 11, 12]]\n"
   ]
  },
  {
   "cell_type": "code",
   "execution_count": 13,
   "id": "eb705a64",
   "metadata": {},
   "outputs": [
    {
     "name": "stdout",
     "output_type": "stream",
     "text": [
      "Element at the third row and fourth column: 12\n"
     ]
    }
   ],
   "source": [
    "import numpy as np \n",
    "\n",
    "array = [[1, 2, 3, 4],\n",
    "         [5, 6, 7, 8],\n",
    "         [9, 10, 11, 12]]\n",
    "\n",
    "np_array = np.array(array)\n",
    "\n",
    "ele = np_array[2][3]\n",
    "print(\"Element at the third row and fourth column:\", ele)"
   ]
  },
  {
   "cell_type": "markdown",
   "id": "1b84082b",
   "metadata": {},
   "source": [
    "Question 6 :- Write code to extract all odd-indexed elements from the given numpy array?\n",
    "\n",
    " [[1, 2, 3, 4]\n",
    "\n",
    "[5, 6, 7, 8],\n",
    "\n",
    "[9, 10, 11, 12]]\n"
   ]
  },
  {
   "cell_type": "code",
   "execution_count": 14,
   "id": "420e4970",
   "metadata": {},
   "outputs": [
    {
     "name": "stdout",
     "output_type": "stream",
     "text": [
      "Odd-indexed elements: [[ 2  4]\n",
      " [ 6  8]\n",
      " [10 12]]\n"
     ]
    }
   ],
   "source": [
    "import numpy as np\n",
    "\n",
    "array = [[1, 2, 3, 4],\n",
    "         [5, 6, 7, 8],\n",
    "         [9, 10, 11, 12]]\n",
    "\n",
    "np_array = np.array(array)\n",
    "\n",
    "odd_indexed_elements = np_array[:, 1::2]\n",
    "\n",
    "print(\"Odd-indexed elements:\", odd_indexed_elements)"
   ]
  },
  {
   "cell_type": "markdown",
   "id": "15524b31",
   "metadata": {},
   "source": [
    "Question 7 :- How can you generate a random 3x3 matrix with values between 0 and 1?"
   ]
  },
  {
   "cell_type": "code",
   "execution_count": 15,
   "id": "2bf89771",
   "metadata": {},
   "outputs": [
    {
     "data": {
      "text/plain": [
       "array([[0.98375057, 0.88886395, 0.73970583],\n",
       "       [0.1547384 , 0.10273688, 0.47610656],\n",
       "       [0.27365264, 0.59662568, 0.77788484]])"
      ]
     },
     "execution_count": 15,
     "metadata": {},
     "output_type": "execute_result"
    }
   ],
   "source": [
    "import numpy as np \n",
    "\n",
    "random_matrix = np.random.random((3,3))\n",
    "\n",
    "random_matrix"
   ]
  },
  {
   "cell_type": "markdown",
   "id": "a544d2cd",
   "metadata": {},
   "source": [
    "Question 8 :- Describe the difference between np.random.rand and np.random.randn?"
   ]
  },
  {
   "cell_type": "markdown",
   "id": "25bf8001",
   "metadata": {},
   "source": [
    "1. np.random.rand:\n",
    "\n",
    "This function generates random numbers from a uniform distribution over the range [0, 1), where each value has an equal probability of being selected.\n",
    "You can specify the shape of the output array as arguments to the function.\n",
    "For example, np.random.rand(3, 3) will generate a 3x3 array of random numbers between 0 and 1.\n",
    "\n",
    "2. np.random.randn:\n",
    "\n",
    "This function generates random numbers from a standard normal distribution (Gaussian distribution) with mean 0 and standard deviation 1.\n",
    "The shape of the output array can also be specified as arguments to the function.\n",
    "Unlike np.random.rand, you do not provide the range for the random numbers; they are drawn from a Gaussian distribution centered around 0.\n",
    "For example, np.random.randn(3, 3) will generate a 3x3 array of random numbers sampled from a standard normal distribution."
   ]
  },
  {
   "cell_type": "markdown",
   "id": "6e5a0035",
   "metadata": {},
   "source": [
    "Question 9 :- Write code to increase the dimension of the following array?\n",
    "\n",
    " [[1, 2, 3, 4]\n",
    "\n",
    "[5, 6, 7, 8],\n",
    "\n",
    "[9, 10, 11, 12]]\n"
   ]
  },
  {
   "cell_type": "code",
   "execution_count": 17,
   "id": "7e6437c3",
   "metadata": {},
   "outputs": [
    {
     "name": "stdout",
     "output_type": "stream",
     "text": [
      "Original array shape: (3, 4)\n",
      "Expanded array shape: (1, 3, 4)\n",
      "Expanded array:\n",
      "[[[ 1  2  3  4]\n",
      "  [ 5  6  7  8]\n",
      "  [ 9 10 11 12]]]\n"
     ]
    }
   ],
   "source": [
    "import numpy as np\n",
    "\n",
    "array = [[1, 2, 3, 4],\n",
    "         [5, 6, 7, 8],\n",
    "         [9, 10, 11, 12]]\n",
    "\n",
    "np_array = np.array(array)\n",
    "\n",
    "expanded_array = np.expand_dims(np_array, axis=0)\n",
    "\n",
    "print(\"Original array shape:\", np_array.shape)\n",
    "print(\"Expanded array shape:\", expanded_array.shape)\n",
    "print(\"Expanded array:\")\n",
    "print(expanded_array)"
   ]
  },
  {
   "cell_type": "markdown",
   "id": "a6608d1c",
   "metadata": {},
   "source": [
    "Question 10 :- How to transpose the following array in NumPy?\n",
    "\n",
    " [[1, 2, 3, 4]\n",
    "\n",
    "[5, 6, 7, 8],\n",
    "\n",
    "[9, 10, 11, 12]]"
   ]
  },
  {
   "cell_type": "code",
   "execution_count": 19,
   "id": "f01c43c4",
   "metadata": {},
   "outputs": [
    {
     "name": "stdout",
     "output_type": "stream",
     "text": [
      "Transposed array:\n",
      "[[ 1  5  9]\n",
      " [ 2  6 10]\n",
      " [ 3  7 11]\n",
      " [ 4  8 12]]\n"
     ]
    }
   ],
   "source": [
    "import numpy as np\n",
    "\n",
    "array = [[1, 2, 3, 4],\n",
    "         [5, 6, 7, 8],\n",
    "         [9, 10, 11, 12]]\n",
    "\n",
    "np_array = np.array(array)\n",
    "\n",
    "transpose_array = np.transpose(np_array)\n",
    "print(\"Transposed array:\")\n",
    "print(transpose_array)"
   ]
  },
  {
   "cell_type": "markdown",
   "id": "931d3a1a",
   "metadata": {},
   "source": [
    "Question 11 :- 11. Consider the following matrix:\n",
    "\n",
    "Matrix A: [[1, 2, 3, 4] [5, 6, 7, 8],[9, 10, 11, 12]]\n",
    " Matrix B: [[1, 2, 3, 4] [5, 6, 7, 8],[9, 10, 11, 12]]\n",
    "\n",
    "\n",
    "Perform the following operation using Python1 ,\n",
    " + Index wise multiplicatio'\n",
    " + Matrix multiplicatio'\n",
    " + Add both the matricK\n",
    " + Subtract matrix B from \n",
    " + Divide Matrix B by A\n",
    "\n",
    "\n"
   ]
  },
  {
   "cell_type": "code",
   "execution_count": 21,
   "id": "ead548cb",
   "metadata": {},
   "outputs": [
    {
     "name": "stdout",
     "output_type": "stream",
     "text": [
      "Index-wise Multiplication:\n",
      " [[  1   4   9  16]\n",
      " [ 25  36  49  64]\n",
      " [ 81 100 121 144]]\n",
      "\n",
      "Addition:\n",
      " [[ 2  4  6  8]\n",
      " [10 12 14 16]\n",
      " [18 20 22 24]]\n",
      "\n",
      "Subtraction:\n",
      " [[0 0 0 0]\n",
      " [0 0 0 0]\n",
      " [0 0 0 0]]\n",
      "\n",
      "Division:\n",
      " [[1. 1. 1. 1.]\n",
      " [1. 1. 1. 1.]\n",
      " [1. 1. 1. 1.]]\n"
     ]
    }
   ],
   "source": [
    "import numpy as np\n",
    "\n",
    "# Define matrices A and B\n",
    "A = np.array([[1, 2, 3, 4],\n",
    "              [5, 6, 7, 8],\n",
    "              [9, 10, 11, 12]])\n",
    "\n",
    "B = np.array([[1, 2, 3, 4],\n",
    "              [5, 6, 7, 8],\n",
    "              [9, 10, 11, 12]])\n",
    "\n",
    "# Index-wise multiplication\n",
    "index_wise_multiplication = A * B\n",
    "\n",
    "# Addition\n",
    "addition = A + B\n",
    "\n",
    "# Subtraction\n",
    "subtraction = A - B\n",
    "\n",
    "# Division\n",
    "division = B / A\n",
    "\n",
    "print(\"Index-wise Multiplication:\\n\", index_wise_multiplication)\n",
    "print(\"\\nAddition:\\n\", addition)\n",
    "print(\"\\nSubtraction:\\n\", subtraction)\n",
    "print(\"\\nDivision:\\n\", division)"
   ]
  },
  {
   "cell_type": "markdown",
   "id": "6e90dc88",
   "metadata": {},
   "source": [
    "Question 12 :- Which function in Numpy can be used to swap the byte order of an array?\n",
    "\n",
    "In NumPy, you can use the byteswap() function to swap the byte order of an array. This function creates a new array with the byte order swapped."
   ]
  },
  {
   "cell_type": "code",
   "execution_count": 22,
   "id": "182393e8",
   "metadata": {},
   "outputs": [
    {
     "name": "stdout",
     "output_type": "stream",
     "text": [
      "Array with byte order swapped: [16777216 33554432 50331648 67108864]\n"
     ]
    }
   ],
   "source": [
    "import numpy as np\n",
    "\n",
    "arr = np.array([1, 2, 3, 4], dtype=np.int32)\n",
    "\n",
    "swapped_arr = arr.byteswap()\n",
    "\n",
    "print(\"Array with byte order swapped:\", swapped_arr)"
   ]
  },
  {
   "cell_type": "markdown",
   "id": "61035f7d",
   "metadata": {},
   "source": [
    "Question 13 :- What is the significance of the np.linalg.inv function?\n",
    "\n",
    "The np.linalg.inv function in NumPy is used to compute the multiplicative inverse of a square matrix. In other words, it calculates the inverse of a given matrix.\n",
    "\n",
    "The significance of the np.linalg.inv function lies in its application to solve linear equations and systems of linear equations. Here are some key points about its significance:\n",
    "\n",
    "1. Solving Linear Equations: The inverse of a matrix is used to solve systems of linear equations of the form Ax = B, where A is the coefficient matrix, x is the vector of variables, and B is the constant vector. The solution to the system can be found by multiplying both sides of the equation by the inverse of A: x = A^(-1) * B.\n",
    "\n",
    "2. Matrix Operations: The inverse of a matrix is essential in various matrix operations, such as matrix multiplication, matrix division, and finding the determinant of a matrix.\n",
    "\n",
    "3. Numerical Stability: In some cases, solving a system of linear equations directly may not be numerically stable, especially when dealing with ill-conditioned matrices. However, using the inverse of the matrix can sometimes provide a more stable solution."
   ]
  },
  {
   "cell_type": "markdown",
   "id": "2c8a6a71",
   "metadata": {},
   "source": [
    "Question 14 :- What does the np.reshape function do, and how is it used?\n",
    "\n",
    "The np.reshape function in NumPy is used to change the shape of an array without changing its data. It allows you to reshape a given array into a new shape specified by the user, as long as the total number of elements remains the same.\n",
    "\n",
    "Here's what np.reshape does and how it's used:\n",
    "\n",
    "1. Reshaping: The np.reshape function changes the shape of the array while preserving the order of its elements. It rearranges the elements of the array to fit into the new shape specified by the user.\n",
    "\n",
    "2. Data Preservation: Importantly, np.reshape does not change the underlying data of the array. It merely changes the view of how the data is interpreted.\n",
    "\n",
    "3. Flexible Usage: You can reshape arrays into various shapes, as long as the total number of elements remains constant. For example, you can reshape a 1D array into a 2D array, or vice versa.\n",
    "\n",
    "4. syntax :-\n",
    "\n",
    "np.reshape(array, new_shape)\n"
   ]
  },
  {
   "cell_type": "markdown",
   "id": "a9c98e5e",
   "metadata": {},
   "source": [
    "Question 15 :- What is broadcasting in Numpy?\n",
    "\n",
    "Broadcasting in NumPy is a powerful mechanism that allows arrays of different shapes to be combined and operated on together. It enables arithmetic operations to be performed between arrays of different shapes without the need for them to have the same shape or size. Broadcasting can significantly simplify and optimize code by eliminating the need for explicit loops."
   ]
  },
  {
   "cell_type": "code",
   "execution_count": 23,
   "id": "0e1cfc17",
   "metadata": {},
   "outputs": [
    {
     "name": "stdout",
     "output_type": "stream",
     "text": [
      "Array A:\n",
      "[[1 2 3]\n",
      " [4 5 6]\n",
      " [7 8 9]]\n",
      "\n",
      "Array B:\n",
      "[10 20 30]\n",
      "\n",
      "Result of Broadcasting:\n",
      "[[11 22 33]\n",
      " [14 25 36]\n",
      " [17 28 39]]\n"
     ]
    }
   ],
   "source": [
    "import numpy as np\n",
    "\n",
    "A = np.array([[1, 2, 3],\n",
    "              [4, 5, 6],\n",
    "              [7, 8, 9]])\n",
    "\n",
    "B = np.array([10, 20, 30])\n",
    "\n",
    "result = A + B\n",
    "\n",
    "print(\"Array A:\")\n",
    "print(A)\n",
    "print(\"\\nArray B:\")\n",
    "print(B)\n",
    "print(\"\\nResult of Broadcasting:\")\n",
    "print(result)"
   ]
  },
  {
   "cell_type": "code",
   "execution_count": null,
   "id": "299a9140",
   "metadata": {},
   "outputs": [],
   "source": []
  }
 ],
 "metadata": {
  "kernelspec": {
   "display_name": "Python 3 (ipykernel)",
   "language": "python",
   "name": "python3"
  },
  "language_info": {
   "codemirror_mode": {
    "name": "ipython",
    "version": 3
   },
   "file_extension": ".py",
   "mimetype": "text/x-python",
   "name": "python",
   "nbconvert_exporter": "python",
   "pygments_lexer": "ipython3",
   "version": "3.11.3"
  }
 },
 "nbformat": 4,
 "nbformat_minor": 5
}
